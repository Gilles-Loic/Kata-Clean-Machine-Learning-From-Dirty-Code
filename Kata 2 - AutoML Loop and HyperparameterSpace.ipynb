{
 "cells": [
  {
   "cell_type": "markdown",
   "metadata": {},
   "source": [
    "# Kata 2: AutoML Loop & HyperparameterSpace\n",
    "\n",
    "Let's now use the solution of the Kata 1 and try to do AutoML from there. \n",
    "\n",
    "A call to the `AutoML` class is already made at the end of this notebook, after which the best model found automatically using the accuracy on the validation dataset is retrained on the train dataset and the validation dataset to be tested on the test dataset. We use a simple train/val split for the validation.\n",
    "\n",
    "## The task\n",
    "\n",
    "Your goal is then to add more choices to try in the pipeline (and with more hyperparameters per choice) to make it really good. "
   ]
  },
  {
   "cell_type": "code",
   "execution_count": null,
   "metadata": {},
   "outputs": [],
   "source": []
  }
 ],
 "metadata": {
  "hide_input": false,
  "kernelspec": {
   "display_name": "git_kata_ml",
   "language": "python",
   "name": "git_kata_ml"
  },
  "language_info": {
   "codemirror_mode": {
    "name": "ipython",
    "version": 3
   },
   "file_extension": ".py",
   "mimetype": "text/x-python",
   "name": "python",
   "nbconvert_exporter": "python",
   "pygments_lexer": "ipython3",
   "version": "3.6.8"
  }
 },
 "nbformat": 4,
 "nbformat_minor": 2
}
